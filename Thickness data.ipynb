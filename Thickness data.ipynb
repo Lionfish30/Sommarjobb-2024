{
 "cells": [
  {
   "cell_type": "code",
   "execution_count": 2,
   "metadata": {},
   "outputs": [],
   "source": [
    "import pandas as pd\n",
    "import numpy as np\n",
    "import matplotlib.pyplot as plt"
   ]
  },
  {
   "cell_type": "code",
   "execution_count": 18,
   "metadata": {},
   "outputs": [
    {
     "name": "stdout",
     "output_type": "stream",
     "text": [
      "\n",
      "kankse 8.803809999999999e-08\n",
      "kankse 4.1835099999999996e-08\n"
     ]
    },
    {
     "name": "stderr",
     "output_type": "stream",
     "text": [
      "/var/folders/nz/w1y866l54cd210lbkmf1cn0m0000gp/T/ipykernel_22691/2478443511.py:62: SettingWithCopyWarning: \n",
      "A value is trying to be set on a copy of a slice from a DataFrame\n",
      "\n",
      "See the caveats in the documentation: https://pandas.pydata.org/pandas-docs/stable/user_guide/indexing.html#returning-a-view-versus-a-copy\n",
      "  C10_1_Area1.drop(C10_1_Area1[C10_1_Area1.x==\"-\"].index, inplace=True)\n",
      "/var/folders/nz/w1y866l54cd210lbkmf1cn0m0000gp/T/ipykernel_22691/2478443511.py:77: SettingWithCopyWarning: \n",
      "A value is trying to be set on a copy of a slice from a DataFrame\n",
      "\n",
      "See the caveats in the documentation: https://pandas.pydata.org/pandas-docs/stable/user_guide/indexing.html#returning-a-view-versus-a-copy\n",
      "  C10_1_Area2.drop(C10_1_Area2[C10_1_Area2.x==\"-\"].index, inplace=True)\n"
     ]
    },
    {
     "data": {
      "image/png": "[encoded data removed]",
      "text/plain": [
       "<Figure size 640x480 with 1 Axes>"
      ]
     },
     "metadata": {},
     "output_type": "display_data"
    }
   ],
   "source": [
    "truethick = pd.ExcelFile(\"All_flakes_chip2.xlsx\")\n",
    "C14area1 = pd.read_excel(truethick,\"C14_Area1\",header=1)\n",
    "C14area2 = pd.read_excel(truethick,\"C14_Area02\",header=1)\n",
    "C14area1 = C14area1.to_numpy()\n",
    "C14area2 = C14area2.to_numpy()\n",
    "\n",
    "F14 = pd.read_excel(truethick,\"F14\",header=1)\n",
    "\n",
    "\n",
    "G14 = pd.read_excel(truethick,\"G14\",header=1)\n",
    "G14_1 = G14[[\"x\",\"y\"]]\n",
    "\n",
    "\n",
    "G14_2 = G14[[\"x.1\",\"y.1\"]]\n",
    "G14_2= G14_2.rename(columns={\"x.1\":\"x\",\"y.1\":\"y\"})\n",
    "\n",
    "G14_3 = G14[[\"x.2\",\"y.2\"]]\n",
    "G14_3= G14_3.rename(columns={\"x.2\":\"x\",\"y.2\":\"y\"})\n",
    "\n",
    "G14_4 = G14[[\"x.3\",\"y.3\"]]\n",
    "G14_4= G14_4.rename(columns={\"x.3\":\"x\",\"y.3\":\"y\"})\n",
    "\n",
    "G14_5 = G14[[\"x.4\",\"y.4\"]]\n",
    "G14_5= G14_5.rename(columns={\"x.4\":\"x\",\"y.4\":\"y\"})\n",
    "\n",
    "G14_6 = G14[[\"x.5\",\"y.5\"]]\n",
    "G14_6= G14_6.rename(columns={\"x.5\":\"x\",\"y.5\":\"y\"})\n",
    "\n",
    "H9 = pd.read_excel(truethick,\"H09\",header=1)\n",
    "H9_1 = H9[[\"x\",\"y\"]]\n",
    "\n",
    "H9_2 = H9[[\"x.1\",\"y.1\"]]\n",
    "H9_2= H9_2.rename(columns={\"x.1\":\"x\",\"y.1\":\"y\"})\n",
    "\n",
    "H9_3 = H9[[\"x.2\",\"y.2\"]]\n",
    "H9_3= H9_3.rename(columns={\"x.2\":\"x\",\"y.2\":\"y\"})\n",
    "\n",
    "H9_4 = H9[[\"x.3\",\"y.3\"]]\n",
    "H9_4= H9_4.rename(columns={\"x.3\":\"x\",\"y.3\":\"y\"})\n",
    "\n",
    "H9_5 = H9[[\"x.4\",\"y.4\"]]\n",
    "H9_5= H9_5.rename(columns={\"x.4\":\"x\",\"y.4\":\"y\"})\n",
    "\n",
    "H9_6 = H9[[\"x.5\",\"y.5\"]]\n",
    "H9_6= H9_6.rename(columns={\"x.5\":\"x\",\"y.5\":\"y\"})\n",
    "\n",
    "H12 = pd.read_excel(truethick,\"H12\",header=1)\n",
    "H12_1 = H12[[\"x\",\"y\"]]\n",
    "\n",
    "H12_2 = H12[[\"x.1\",\"y.1\"]]\n",
    "H12_2= H12_2.rename(columns={\"x.1\":\"x\",\"y.1\":\"y\"})\n",
    "\n",
    "A10 = pd.read_excel(truethick,\"A10Area1\",header=1)\n",
    "A10.drop(A10[A10.x==\"-\"].index, inplace=True)\n",
    "A10 = A10.to_numpy()\n",
    "\n",
    "B15 = pd.read_excel(truethick,\"B15-Area01\",header=1)\n",
    "B15 = B15.to_numpy()\n",
    "\n",
    "C10_Area1 = pd.read_excel(truethick,\"C10_Area01\",header=1)\n",
    "C10_1_Area1 = C10_Area1[[\"x\",\"y\"]]\n",
    "C10_1_Area1.drop(C10_1_Area1[C10_1_Area1.x==\"-\"].index, inplace=True)\n",
    "C10_1_Area1 = C10_1_Area1.to_numpy()\n",
    "\n",
    "C10_2_Area1 = C10_Area1[[\"x.1\",\"y.1\"]]\n",
    "C10_2_Area1= C10_2_Area1.rename(columns={\"x.1\":\"x\",\"y.1\":\"y\"})\n",
    "C10_2_Area1.drop(C10_2_Area1[C10_2_Area1.x==\"-\"].index, inplace=True)\n",
    "C10_2_Area1 = C10_2_Area1.to_numpy()\n",
    "\n",
    "C10_3_Area1 = C10_Area1[[\"x.2\",\"y.2\"]]\n",
    "C10_3_Area1= C10_3_Area1.rename(columns={\"x.2\":\"x\",\"y.2\":\"y\"})\n",
    "C10_3_Area1.drop(C10_3_Area1[C10_3_Area1.x==\"-\"].index, inplace=True)\n",
    "C10_3_Area1 = C10_3_Area1.to_numpy()\n",
    "\n",
    "C10_Area2 = pd.read_excel(truethick,\"C10_area02\",header=1)\n",
    "C10_1_Area2 = C10_Area2[[\"x\",\"y\"]]\n",
    "C10_1_Area2.drop(C10_1_Area2[C10_1_Area2.x==\"-\"].index, inplace=True)\n",
    "C10_1_Area2 = C10_1_Area2.to_numpy()\n",
    "\n",
    "C10_2_Area2 = C10_Area2[[\"x.1\",\"y.1\"]]\n",
    "C10_2_Area2= C10_2_Area2.rename(columns={\"x.1\":\"x\",\"y.1\":\"y\"})\n",
    "C10_2_Area2.drop(C10_2_Area2[C10_2_Area2.x==\"-\"].index, inplace=True)\n",
    "C10_2_Area2 = C10_2_Area2.to_numpy()\n",
    "\n",
    "C10_3_Area2 = C10_Area2[[\"x.2\",\"y.2\"]]\n",
    "C10_3_Area2= C10_3_Area2.rename(columns={\"x.2\":\"x\",\"y.2\":\"y\"})\n",
    "C10_3_Area2.drop(C10_3_Area2[C10_3_Area2.x==\"-\"].index, inplace=True)\n",
    "C10_3_Area2 = C10_3_Area2.to_numpy()\n",
    "\n",
    "D9 = pd.read_excel(truethick,\"D09_Area01\",header=1)\n",
    "D9_1 = D9[[\"x\",\"y\"]]\n",
    "\n",
    "D9_2 = D9[[\"x.1\",\"y.1\"]]\n",
    "D9_2= D9_2.rename(columns={\"x.1\":\"x\",\"y.1\":\"y\"})\n",
    "\n",
    "N8 = pd.read_excel(truethick,\"N08_01\",header=1)\n",
    "N8_1 = N8[[\"x\",\"y\"]]\n",
    "\n",
    "N8_2 = N8[[\"x.1\",\"y.1\"]]\n",
    "N8_2= N8_2.rename(columns={\"x.1\":\"x\",\"y.1\":\"y\"})\n",
    "\n",
    "N8_3 = N8[[\"x.2\",\"y.2\"]]\n",
    "N8_3= N8_3.rename(columns={\"x.2\":\"x\",\"y.2\":\"y\"})\n",
    "\n",
    "N15 = pd.read_excel(truethick,\"N15_Area01\",header=1)\n",
    "N15_1 = N15[[\"x\",\"y\"]]\n",
    "\n",
    "N15_2 = N15[[\"x.1\",\"y.1\"]]\n",
    "N15_2= N15_2.rename(columns={\"x.1\":\"x\",\"y.1\":\"y\"})\n",
    "\n",
    "N15_3 = N15[[\"x.2\",\"y.2\"]]\n",
    "N15_3= N15_3.rename(columns={\"x.2\":\"x\",\"y.2\":\"y\"})\n",
    "\n",
    "# print(A10[1:,1])\n",
    "\n",
    "def prep(array):\n",
    "    array= array.drop(array[array.x==\"-\"].index)\n",
    "    array = array.to_numpy()\n",
    "    return array\n",
    "\n",
    "print()\n",
    "plt.plot(prep(G14_6)[35:,0],prep(G14_6)[35:,1],color=\"green\",label=\"3\",zorder=2)\n",
    "plt.plot(prep(G14_6)[1:30,0],prep(G14_6)[1:30,1],color=\"blue\",label=\"1\",zorder=2)\n",
    "plt.plot(prep(G14_6)[1:,0],prep(G14_6)[1:,1],color=\"black\",label=\"2\",zorder=1)\n",
    "print(\"kankse\" , prep(G14_6)[64,1]-prep(G14_6)[30,1])\n",
    "print(\"kankse\" , prep(G14_6)[36,1]-prep(G14_6)[30,1])\n",
    "# plt.xlim([0.9*10**-5,1*10**-5])\n",
    "\n",
    "\n",
    "# plt.plot(B15[1:70,0],B15[1:70,1],zorder=4,color=\"blue\")\n",
    "# plt.plot(B15[135:,0],B15[135:,1],zorder=4,color=\"green\")\n",
    "# plt.plot(B15[1:,0],B15[1:,1],zorder=1,color=\"black\")\n",
    "# print(B15[70,1]-B15[135,1])\n",
    "# plt.legend()\n",
    "# plt.show()\n",
    "\n",
    "def räkna(array,övre,undre):\n",
    "    tot1 = np.sum(array[övre:,1])/len(array[övre:,1])\n",
    "    tot2 = np.sum(array[1:undre,1])/len(array[1:undre,1])\n",
    "    tot = tot1-tot2\n",
    "    return tot\n",
    "\n",
    "# sak = [räkna(C10_1_Area2[:150],80,30),räkna(C10_2_Area2,105,60)]\n",
    "# print(\"{}\".format(räkna(N15_1,115,90))+\"\\n\"+\"{}\".format(räkna(N15_2,115,90))+\"\\n\"+\"{}\".format(räkna(N15_3,115,90)))\n",
    "# print((np.max(sak)-np.min(sak))/2)\n",
    "# print(np.mean(sak))\n"
   ]
  },
  {
   "cell_type": "code",
   "execution_count": 135,
   "metadata": {},
   "outputs": [
    {
     "name": "stdout",
     "output_type": "stream",
     "text": [
      "[1.9412027626137297e-07, 1.945101816091954e-07, 1.94754517651271e-07, 1.971120803689065e-07, 1.9938443401360543e-07, 2.0188492643678168e-07]\n",
      "3.882325087704355e-09\n",
      "1.9696106939018882e-07\n"
     ]
    }
   ],
   "source": [
    "sak = [räkna(prep(G14_1),80,40),räkna(prep(G14_2),80,30),räkna(prep(G14_3),105,50),räkna(prep(G14_4),105,70),räkna(prep(G14_5),90,50),räkna(prep(G14_6),80,30)]\n",
    "print(sak)\n",
    "print((np.max(sak)-np.min(sak))/2)\n",
    "print(np.mean(sak))"
   ]
  },
  {
   "cell_type": "code",
   "execution_count": 109,
   "metadata": {},
   "outputs": [
    {
     "name": "stdout",
     "output_type": "stream",
     "text": [
      "[-7.019084387096771e-08, -7.020554973008559e-08]\n",
      "7.352929558938202e-12\n",
      "-7.019819680052666e-08\n"
     ]
    }
   ],
   "source": [
    "sak = [räkna(prep(H12_1),50,32),räkna(prep(H12_2),50,32)]\n",
    "print(sak)\n",
    "print((np.max(sak)-np.min(sak))/2)\n",
    "print(np.mean(sak))"
   ]
  },
  {
   "cell_type": "code",
   "execution_count": 101,
   "metadata": {},
   "outputs": [
    {
     "name": "stdout",
     "output_type": "stream",
     "text": [
      "[1.1991117601449273e-07, 1.196008363899868e-07]\n",
      "1.5516981225296182e-10\n",
      "1.1975600620223978e-07\n"
     ]
    }
   ],
   "source": [
    "sak = [räkna(prep(N15_1)[:-10],120,70),räkna(prep(N15_2)[:-10],120,70)]\n",
    "print(sak)\n",
    "print((np.max(sak)-np.min(sak))/2)\n",
    "print(np.mean(sak))"
   ]
  },
  {
   "cell_type": "code",
   "execution_count": 89,
   "metadata": {},
   "outputs": [
    {
     "name": "stdout",
     "output_type": "stream",
     "text": [
      "[1.4597465862068968e-08, 1.493036081871345e-08]\n",
      "1.6644747832224148e-10\n",
      "1.4763913340391209e-08\n"
     ]
    }
   ],
   "source": [
    "sak = [räkna(prep(N8_2),40,30),räkna(prep(N8_3),35,20)]\n",
    "print(sak)\n",
    "print((np.max(sak)-np.min(sak))/2)\n",
    "print(np.mean(sak))"
   ]
  },
  {
   "cell_type": "code",
   "execution_count": 65,
   "metadata": {},
   "outputs": [
    {
     "name": "stdout",
     "output_type": "stream",
     "text": [
      "[-8.948736262564727e-09, -8.922282329411768e-09]\n",
      "1.3226966576479678e-11\n",
      "-8.935509295988247e-09\n"
     ]
    }
   ],
   "source": [
    "sak = [räkna(prep(D9_1),70,50),räkna(prep(D9_2),127,120)]\n",
    "print(sak)\n",
    "print((np.max(sak)-np.min(sak))/2)\n",
    "print(np.mean(sak))"
   ]
  },
  {
   "cell_type": "code",
   "execution_count": 77,
   "metadata": {},
   "outputs": [
    {
     "name": "stdout",
     "output_type": "stream",
     "text": [
      "[-2.350218381887616e-07, -2.3372868080050034e-07]\n",
      "6.465786941306329e-10\n",
      "-2.3437525949463097e-07\n"
     ]
    }
   ],
   "source": [
    "# sak = [räkna(prep(H9_1),70,50),räkna(prep(H9_2),70,40),räkna(prep(H9_3),70,20),räkna(prep(H9_4),70,40),räkna(prep(H9_5),70,40),räkna(prep(H9_6),70,40)]\n",
    "sak = [räkna(prep(H9_2),70,40),räkna(prep(H9_4),70,40)]\n",
    "\n",
    "print(sak)\n",
    "print((np.max(sak)-np.min(sak))/2)\n",
    "print(np.mean(sak))"
   ]
  },
  {
   "cell_type": "code",
   "execution_count": 34,
   "metadata": {},
   "outputs": [
    {
     "name": "stdout",
     "output_type": "stream",
     "text": [
      "[6.617214746281271e-08, 6.626752650285427e-08]\n",
      "4.768952002078188e-11\n",
      "6.621983698283349e-08\n"
     ]
    }
   ],
   "source": [
    "sak = [räkna(C10_1_Area2[:150],110,30)+räkna(C10_3_Area2,50,25),räkna(C10_2_Area2,110,80)+räkna(C10_3_Area2,50,25)]\n",
    "print(sak)\n",
    "print((np.max(sak)-np.min(sak))/2)\n",
    "print(np.mean(sak))"
   ]
  },
  {
   "cell_type": "code",
   "execution_count": null,
   "metadata": {},
   "outputs": [
    {
     "name": "stdout",
     "output_type": "stream",
     "text": [
      "0.0\n",
      "-5.8729189587540897e-08\n"
     ]
    }
   ],
   "source": [
    "sak = [räkna(B15,135,90)]\n",
    "\n",
    "print((np.max(sak)-np.min(sak))/2)\n",
    "print(np.mean(sak))"
   ]
  },
  {
   "cell_type": "code",
   "execution_count": 12,
   "metadata": {},
   "outputs": [
    {
     "name": "stdout",
     "output_type": "stream",
     "text": [
      "0.0\n",
      "-1.5232782994124567e-07\n"
     ]
    }
   ],
   "source": [
    "sak = [räkna(C14area2,110,70)]\n",
    "\n",
    "print((np.max(sak)-np.min(sak))/2)\n",
    "print(np.mean(sak))"
   ]
  }
 ],
 "metadata": {
  "kernelspec": {
   "display_name": "Python 3",
   "language": "python",
   "name": "python3"
  },
  "language_info": {
   "codemirror_mode": {
    "name": "ipython",
    "version": 3
   },
   "file_extension": ".py",
   "mimetype": "text/x-python",
   "name": "python",
   "nbconvert_exporter": "python",
   "pygments_lexer": "ipython3",
   "version": "3.11.2"
  }
 },
 "nbformat": 4,
 "nbformat_minor": 2
}
