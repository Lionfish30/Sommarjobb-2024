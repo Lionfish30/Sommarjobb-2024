{
 "cells": [
  {
   "cell_type": "code",
   "execution_count": 2,
   "metadata": {},
   "outputs": [],
   "source": [
    "import tkinter as tk"
   ]
  },
  {
   "cell_type": "code",
   "execution_count": 3,
   "metadata": {},
   "outputs": [
    {
     "name": "stderr",
     "output_type": "stream",
     "text": [
      "2024-06-26 09:14:25.915 Python[44667:8793303] WARNING: Secure coding is not enabled for restorable state! Enable secure coding by implementing NSApplicationDelegate.applicationSupportsSecureRestorableState: and returning YES.\n"
     ]
    },
    {
     "ename": "",
     "evalue": "",
     "output_type": "error",
     "traceback": [
      "\u001b[1;31mThe Kernel crashed while executing code in the current cell or a previous cell. \n",
      "\u001b[1;31mPlease review the code in the cell(s) to identify a possible cause of the failure. \n",
      "\u001b[1;31mClick <a href='https://aka.ms/vscodeJupyterKernelCrash'>here</a> for more info. \n",
      "\u001b[1;31mView Jupyter <a href='command:jupyter.viewOutput'>log</a> for further details."
     ]
    }
   ],
   "source": [
    "def clicked_btnquit():\n",
    "    window.destroy\n",
    "\n",
    "def import_file():\n",
    "\tfile_path = filedialog.askopenfilename(title=\"Select a file\", filetypes=[(\"Text files\", \"*.txt\"), (\"All files\", \"*.*\")])\n",
    "\tif file_path:\n",
    "\t\t# Process the selected file (you can replace this with your own logic)\n",
    "\t\tprint(\"Selected file:\", file_path)\n",
    "\n",
    "\n",
    "window = tk.Tk()\n",
    "\n",
    "\n",
    "\n",
    "window.geometry(\"420x420\")\n",
    "window.title(\"Thickness calculator\")\n",
    "window.tk.call(\"tk\",\"scaling\",3.0)\n",
    "\n",
    "lbl = tk.Label(window,text=\"Test\")\n",
    "lbl.grid(column=0,row=0)\n",
    "\n",
    "quitbutton = tk.Button(window, text=\"Quit\", command = clicked_btnquit())\n",
    "quitbutton.grid(column=3,row=3)\n",
    "\n",
    "# Create an \"Import File\" button\n",
    "import_button = tk.Button(root, text=\"Import File\", command=import_file)\n",
    "import_button.pack(pady=100)\n",
    "\n",
    "\n",
    "window.mainloop() #Creates window and repsonds to indput\n",
    "\n",
    "\n"
   ]
  }
 ],
 "metadata": {
  "kernelspec": {
   "display_name": "Python 3",
   "language": "python",
   "name": "python3"
  },
  "language_info": {
   "codemirror_mode": {
    "name": "ipython",
    "version": 3
   },
   "file_extension": ".py",
   "mimetype": "text/x-python",
   "name": "python",
   "nbconvert_exporter": "python",
   "pygments_lexer": "ipython3",
   "version": "3.11.2"
  }
 },
 "nbformat": 4,
 "nbformat_minor": 2
}
